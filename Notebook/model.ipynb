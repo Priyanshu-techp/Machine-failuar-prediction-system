{
 "cells": [
  {
   "cell_type": "code",
   "execution_count": 1,
   "id": "d0882a6b",
   "metadata": {},
   "outputs": [],
   "source": [
    "import pandas as pd"
   ]
  },
  {
   "cell_type": "markdown",
   "id": "c9213eb3",
   "metadata": {},
   "source": [
    "# Load the  clean data set "
   ]
  },
  {
   "cell_type": "code",
   "execution_count": 2,
   "id": "69189320",
   "metadata": {},
   "outputs": [],
   "source": [
    "df = pd.read_csv('../Data/clean_data.csv')"
   ]
  },
  {
   "cell_type": "code",
   "execution_count": 3,
   "id": "edf9a56f",
   "metadata": {},
   "outputs": [
    {
     "data": {
      "text/html": [
       "<div>\n",
       "<style scoped>\n",
       "    .dataframe tbody tr th:only-of-type {\n",
       "        vertical-align: middle;\n",
       "    }\n",
       "\n",
       "    .dataframe tbody tr th {\n",
       "        vertical-align: top;\n",
       "    }\n",
       "\n",
       "    .dataframe thead th {\n",
       "        text-align: right;\n",
       "    }\n",
       "</style>\n",
       "<table border=\"1\" class=\"dataframe\">\n",
       "  <thead>\n",
       "    <tr style=\"text-align: right;\">\n",
       "      <th></th>\n",
       "      <th>Type</th>\n",
       "      <th>UDI</th>\n",
       "      <th>Air temperature [K]</th>\n",
       "      <th>Process temperature [K]</th>\n",
       "      <th>Rotational speed [rpm]</th>\n",
       "      <th>Torque [Nm]</th>\n",
       "      <th>Tool wear [min]</th>\n",
       "      <th>TWF</th>\n",
       "      <th>HDF</th>\n",
       "      <th>PWF</th>\n",
       "      <th>OSF</th>\n",
       "      <th>RNF</th>\n",
       "      <th>Machine failure</th>\n",
       "    </tr>\n",
       "  </thead>\n",
       "  <tbody>\n",
       "    <tr>\n",
       "      <th>0</th>\n",
       "      <td>2</td>\n",
       "      <td>-1.731878</td>\n",
       "      <td>-0.952389</td>\n",
       "      <td>-0.947360</td>\n",
       "      <td>0.068185</td>\n",
       "      <td>0.282200</td>\n",
       "      <td>-1.695984</td>\n",
       "      <td>-0.06798</td>\n",
       "      <td>-0.10786</td>\n",
       "      <td>-0.097934</td>\n",
       "      <td>-0.099484</td>\n",
       "      <td>-0.04363</td>\n",
       "      <td>0</td>\n",
       "    </tr>\n",
       "    <tr>\n",
       "      <th>1</th>\n",
       "      <td>1</td>\n",
       "      <td>-1.731531</td>\n",
       "      <td>-0.902393</td>\n",
       "      <td>-0.879959</td>\n",
       "      <td>-0.729472</td>\n",
       "      <td>0.633308</td>\n",
       "      <td>-1.648852</td>\n",
       "      <td>-0.06798</td>\n",
       "      <td>-0.10786</td>\n",
       "      <td>-0.097934</td>\n",
       "      <td>-0.099484</td>\n",
       "      <td>-0.04363</td>\n",
       "      <td>0</td>\n",
       "    </tr>\n",
       "    <tr>\n",
       "      <th>2</th>\n",
       "      <td>1</td>\n",
       "      <td>-1.731185</td>\n",
       "      <td>-0.952389</td>\n",
       "      <td>-1.014761</td>\n",
       "      <td>-0.227450</td>\n",
       "      <td>0.944290</td>\n",
       "      <td>-1.617430</td>\n",
       "      <td>-0.06798</td>\n",
       "      <td>-0.10786</td>\n",
       "      <td>-0.097934</td>\n",
       "      <td>-0.099484</td>\n",
       "      <td>-0.04363</td>\n",
       "      <td>0</td>\n",
       "    </tr>\n",
       "    <tr>\n",
       "      <th>3</th>\n",
       "      <td>1</td>\n",
       "      <td>-1.730838</td>\n",
       "      <td>-0.902393</td>\n",
       "      <td>-0.947360</td>\n",
       "      <td>-0.590021</td>\n",
       "      <td>-0.048845</td>\n",
       "      <td>-1.586009</td>\n",
       "      <td>-0.06798</td>\n",
       "      <td>-0.10786</td>\n",
       "      <td>-0.097934</td>\n",
       "      <td>-0.099484</td>\n",
       "      <td>-0.04363</td>\n",
       "      <td>0</td>\n",
       "    </tr>\n",
       "    <tr>\n",
       "      <th>4</th>\n",
       "      <td>1</td>\n",
       "      <td>-1.730492</td>\n",
       "      <td>-0.902393</td>\n",
       "      <td>-0.879959</td>\n",
       "      <td>-0.729472</td>\n",
       "      <td>0.001313</td>\n",
       "      <td>-1.554588</td>\n",
       "      <td>-0.06798</td>\n",
       "      <td>-0.10786</td>\n",
       "      <td>-0.097934</td>\n",
       "      <td>-0.099484</td>\n",
       "      <td>-0.04363</td>\n",
       "      <td>0</td>\n",
       "    </tr>\n",
       "    <tr>\n",
       "      <th>...</th>\n",
       "      <td>...</td>\n",
       "      <td>...</td>\n",
       "      <td>...</td>\n",
       "      <td>...</td>\n",
       "      <td>...</td>\n",
       "      <td>...</td>\n",
       "      <td>...</td>\n",
       "      <td>...</td>\n",
       "      <td>...</td>\n",
       "      <td>...</td>\n",
       "      <td>...</td>\n",
       "      <td>...</td>\n",
       "      <td>...</td>\n",
       "    </tr>\n",
       "    <tr>\n",
       "      <th>9995</th>\n",
       "      <td>2</td>\n",
       "      <td>1.730492</td>\n",
       "      <td>-0.602417</td>\n",
       "      <td>-1.082162</td>\n",
       "      <td>0.363820</td>\n",
       "      <td>-1.052012</td>\n",
       "      <td>-1.476034</td>\n",
       "      <td>-0.06798</td>\n",
       "      <td>-0.10786</td>\n",
       "      <td>-0.097934</td>\n",
       "      <td>-0.099484</td>\n",
       "      <td>-0.04363</td>\n",
       "      <td>0</td>\n",
       "    </tr>\n",
       "    <tr>\n",
       "      <th>9996</th>\n",
       "      <td>0</td>\n",
       "      <td>1.730838</td>\n",
       "      <td>-0.552421</td>\n",
       "      <td>-1.082162</td>\n",
       "      <td>0.520005</td>\n",
       "      <td>-0.821283</td>\n",
       "      <td>-1.428902</td>\n",
       "      <td>-0.06798</td>\n",
       "      <td>-0.10786</td>\n",
       "      <td>-0.097934</td>\n",
       "      <td>-0.099484</td>\n",
       "      <td>-0.04363</td>\n",
       "      <td>0</td>\n",
       "    </tr>\n",
       "    <tr>\n",
       "      <th>9997</th>\n",
       "      <td>2</td>\n",
       "      <td>1.731185</td>\n",
       "      <td>-0.502425</td>\n",
       "      <td>-0.947360</td>\n",
       "      <td>0.592519</td>\n",
       "      <td>-0.660777</td>\n",
       "      <td>-1.350349</td>\n",
       "      <td>-0.06798</td>\n",
       "      <td>-0.10786</td>\n",
       "      <td>-0.097934</td>\n",
       "      <td>-0.099484</td>\n",
       "      <td>-0.04363</td>\n",
       "      <td>0</td>\n",
       "    </tr>\n",
       "    <tr>\n",
       "      <th>9998</th>\n",
       "      <td>0</td>\n",
       "      <td>1.731531</td>\n",
       "      <td>-0.502425</td>\n",
       "      <td>-0.879959</td>\n",
       "      <td>-0.729472</td>\n",
       "      <td>0.854005</td>\n",
       "      <td>-1.303217</td>\n",
       "      <td>-0.06798</td>\n",
       "      <td>-0.10786</td>\n",
       "      <td>-0.097934</td>\n",
       "      <td>-0.099484</td>\n",
       "      <td>-0.04363</td>\n",
       "      <td>0</td>\n",
       "    </tr>\n",
       "    <tr>\n",
       "      <th>9999</th>\n",
       "      <td>2</td>\n",
       "      <td>1.731878</td>\n",
       "      <td>-0.502425</td>\n",
       "      <td>-0.879959</td>\n",
       "      <td>-0.216294</td>\n",
       "      <td>0.021376</td>\n",
       "      <td>-1.224663</td>\n",
       "      <td>-0.06798</td>\n",
       "      <td>-0.10786</td>\n",
       "      <td>-0.097934</td>\n",
       "      <td>-0.099484</td>\n",
       "      <td>-0.04363</td>\n",
       "      <td>0</td>\n",
       "    </tr>\n",
       "  </tbody>\n",
       "</table>\n",
       "<p>10000 rows × 13 columns</p>\n",
       "</div>"
      ],
      "text/plain": [
       "      Type       UDI  Air temperature [K]  Process temperature [K]  \\\n",
       "0        2 -1.731878            -0.952389                -0.947360   \n",
       "1        1 -1.731531            -0.902393                -0.879959   \n",
       "2        1 -1.731185            -0.952389                -1.014761   \n",
       "3        1 -1.730838            -0.902393                -0.947360   \n",
       "4        1 -1.730492            -0.902393                -0.879959   \n",
       "...    ...       ...                  ...                      ...   \n",
       "9995     2  1.730492            -0.602417                -1.082162   \n",
       "9996     0  1.730838            -0.552421                -1.082162   \n",
       "9997     2  1.731185            -0.502425                -0.947360   \n",
       "9998     0  1.731531            -0.502425                -0.879959   \n",
       "9999     2  1.731878            -0.502425                -0.879959   \n",
       "\n",
       "      Rotational speed [rpm]  Torque [Nm]  Tool wear [min]      TWF      HDF  \\\n",
       "0                   0.068185     0.282200        -1.695984 -0.06798 -0.10786   \n",
       "1                  -0.729472     0.633308        -1.648852 -0.06798 -0.10786   \n",
       "2                  -0.227450     0.944290        -1.617430 -0.06798 -0.10786   \n",
       "3                  -0.590021    -0.048845        -1.586009 -0.06798 -0.10786   \n",
       "4                  -0.729472     0.001313        -1.554588 -0.06798 -0.10786   \n",
       "...                      ...          ...              ...      ...      ...   \n",
       "9995                0.363820    -1.052012        -1.476034 -0.06798 -0.10786   \n",
       "9996                0.520005    -0.821283        -1.428902 -0.06798 -0.10786   \n",
       "9997                0.592519    -0.660777        -1.350349 -0.06798 -0.10786   \n",
       "9998               -0.729472     0.854005        -1.303217 -0.06798 -0.10786   \n",
       "9999               -0.216294     0.021376        -1.224663 -0.06798 -0.10786   \n",
       "\n",
       "           PWF       OSF      RNF  Machine failure  \n",
       "0    -0.097934 -0.099484 -0.04363                0  \n",
       "1    -0.097934 -0.099484 -0.04363                0  \n",
       "2    -0.097934 -0.099484 -0.04363                0  \n",
       "3    -0.097934 -0.099484 -0.04363                0  \n",
       "4    -0.097934 -0.099484 -0.04363                0  \n",
       "...        ...       ...      ...              ...  \n",
       "9995 -0.097934 -0.099484 -0.04363                0  \n",
       "9996 -0.097934 -0.099484 -0.04363                0  \n",
       "9997 -0.097934 -0.099484 -0.04363                0  \n",
       "9998 -0.097934 -0.099484 -0.04363                0  \n",
       "9999 -0.097934 -0.099484 -0.04363                0  \n",
       "\n",
       "[10000 rows x 13 columns]"
      ]
     },
     "execution_count": 3,
     "metadata": {},
     "output_type": "execute_result"
    }
   ],
   "source": [
    "df"
   ]
  },
  {
   "cell_type": "markdown",
   "id": "be891b09",
   "metadata": {},
   "source": [
    "# Creating traing data "
   ]
  },
  {
   "cell_type": "code",
   "execution_count": 4,
   "id": "ab12bbc4",
   "metadata": {},
   "outputs": [],
   "source": [
    "X = df.drop(columns = ['Machine failure'], axis = 1)\n",
    "y = df['Machine failure']"
   ]
  },
  {
   "cell_type": "code",
   "execution_count": 5,
   "id": "364e5aa9",
   "metadata": {},
   "outputs": [],
   "source": [
    "from sklearn.model_selection import train_test_split\n",
    "X_train, X_test, y_train, y_test = train_test_split(X, y, test_size=0.20, random_state=42)"
   ]
  },
  {
   "cell_type": "markdown",
   "id": "5e9248fe",
   "metadata": {},
   "source": [
    "my target column is very imbalance we use the Smote"
   ]
  },
  {
   "cell_type": "code",
   "execution_count": 6,
   "id": "2cf65cdb",
   "metadata": {},
   "outputs": [],
   "source": [
    "from imblearn.over_sampling import SMOTE\n",
    "smote = SMOTE(random_state=42)\n",
    "X_train_resampled, y_train_resampled = smote.fit_resample(X_train, y_train)"
   ]
  },
  {
   "cell_type": "code",
   "execution_count": 7,
   "id": "9e1b00b5",
   "metadata": {},
   "outputs": [
    {
     "name": "stdout",
     "output_type": "stream",
     "text": [
      "Before SMOTE:\n",
      " Machine failure\n",
      "0    7722\n",
      "1     278\n",
      "Name: count, dtype: int64\n",
      "After SMOTE:\n",
      " Machine failure\n",
      "0    7722\n",
      "1    7722\n",
      "Name: count, dtype: int64\n"
     ]
    }
   ],
   "source": [
    "print(\"Before SMOTE:\\n\", y_train.value_counts())\n",
    "print(\"After SMOTE:\\n\", y_train_resampled.value_counts())"
   ]
  },
  {
   "cell_type": "markdown",
   "id": "fc8cc621",
   "metadata": {},
   "source": [
    "# import all models "
   ]
  },
  {
   "cell_type": "code",
   "execution_count": 13,
   "id": "e0f1e25a",
   "metadata": {},
   "outputs": [],
   "source": [
    "from sklearn.linear_model import LogisticRegression\n",
    "from sklearn.ensemble import RandomForestClassifier, GradientBoostingClassifier\n",
    "from sklearn.neighbors import KNeighborsClassifier\n",
    "from sklearn.tree import DecisionTreeClassifier\n",
    "from sklearn.metrics import accuracy_score, f1_score\n",
    "from sklearn.model_selection import cross_val_score"
   ]
  },
  {
   "cell_type": "code",
   "execution_count": null,
   "id": "6a61d975",
   "metadata": {},
   "outputs": [],
   "source": [
    "# Creating all models \n",
    "models = {\n",
    "    'LogisticRegression' : LogisticRegression(class_weight='balanced'),\n",
    "    'RandomForestClassifier' : RandomForestClassifier(class_weight='balanced'),\n",
    "    'KNeighborsClassifier' : KNeighborsClassifier(),\n",
    "    'GradientBoostingClassifier' : GradientBoostingClassifier(),\n",
    "    'DecisionTreeClassifier' : DecisionTreeClassifier()\n",
    "}"
   ]
  },
  {
   "cell_type": "code",
   "execution_count": 18,
   "id": "6a49f2b6",
   "metadata": {},
   "outputs": [
    {
     "name": "stdout",
     "output_type": "stream",
     "text": [
      "LogisticRegression model is accuracy is 1.00, and f1 is 0.98\n",
      "0.9864654852871663\n",
      "RandomForestClassifier model is accuracy is 1.00, and f1 is 0.98\n",
      "0.8683954331110375\n",
      "KNeighborsClassifier model is accuracy is 0.99, and f1 is 0.83\n",
      "0.9849392817185432\n",
      "GradientBoostingClassifier model is accuracy is 1.00, and f1 is 0.98\n",
      "0.8763575647463375\n",
      "DecisionTreeClassifier model is accuracy is 0.99, and f1 is 0.89\n",
      "0.7490704871999837\n"
     ]
    }
   ],
   "source": [
    "# Creating loop for Train my every model\n",
    "for name, model in models.items():\n",
    "    model.fit(X_train_resampled, y_train_resampled)\n",
    "    y_pred = model.predict(X_test)\n",
    "    acc = accuracy_score(y_test, y_pred)\n",
    "    f1 = f1_score(y_test, y_pred)\n",
    "    print(f'{name} model is accuracy is {acc:.2f}, and f1 is {f1:.2f}')\n",
    "    scores = cross_val_score(model, X, y, cv=5, scoring='f1')\n",
    "    print(scores.mean())\n"
   ]
  },
  {
   "cell_type": "markdown",
   "id": "a26c2252",
   "metadata": {},
   "source": [
    "# Chack my Logistic regression is overfit or not by using this two types of curve"
   ]
  },
  {
   "cell_type": "code",
   "execution_count": 23,
   "id": "518fac0c",
   "metadata": {},
   "outputs": [
    {
     "data": {
      "image/png": "[encoded data removed]",
      "text/plain": [
       "<Figure size 800x500 with 1 Axes>"
      ]
     },
     "metadata": {},
     "output_type": "display_data"
    }
   ],
   "source": [
    "from sklearn.model_selection import learning_curve, validation_curve\n",
    "import matplotlib.pyplot as plt\n",
    "import numpy as np\n",
    "\n",
    "def plot_learning_curve(model, X, y):\n",
    "    train_sizes, train_scores, test_scores = learning_curve(\n",
    "        model, X, y, cv=5, scoring='f1', n_jobs=-1, train_sizes=np.linspace(0.1, 1.0, 10), random_state=42\n",
    "    )\n",
    "    \n",
    "    train_scores_mean = np.mean(train_scores, axis=1)\n",
    "    test_scores_mean = np.mean(test_scores, axis=1)\n",
    "\n",
    "    plt.figure(figsize=(8, 5))\n",
    "    plt.plot(train_sizes, train_scores_mean, 'o-', label='Training score')\n",
    "    plt.plot(train_sizes, test_scores_mean, 'o-', label='Cross-validation score')\n",
    "    plt.title(\"Learning Curve - Logistic Regression\")\n",
    "    plt.xlabel(\"Training Set Size\")\n",
    "    plt.ylabel(\"F1 Score\")\n",
    "    plt.grid(True)\n",
    "    plt.tight_layout()\n",
    "    plt.show()\n",
    "\n",
    "plot_learning_curve(LogisticRegression(class_weight='balanced'), X, y)\n"
   ]
  },
  {
   "cell_type": "code",
   "execution_count": 24,
   "id": "87c349a4",
   "metadata": {},
   "outputs": [
    {
     "data": {
      "image/png": "[encoded data removed]",
      "text/plain": [
       "<Figure size 800x500 with 1 Axes>"
      ]
     },
     "metadata": {},
     "output_type": "display_data"
    }
   ],
   "source": [
    "def plot_validation_curve(model, X, y, param_name, param_range):\n",
    "    train_scores, test_scores = validation_curve(\n",
    "        model, X, y, param_name=param_name, param_range=param_range,\n",
    "        cv=5, scoring='f1', n_jobs=-1\n",
    "    )\n",
    "    \n",
    "    train_mean = np.mean(train_scores, axis=1)\n",
    "    test_mean = np.mean(test_scores, axis=1)\n",
    "\n",
    "    plt.figure(figsize=(8, 5))\n",
    "    plt.plot(param_range, train_mean, label=\"Training score\", marker='o')\n",
    "    plt.plot(param_range, test_mean, label=\"Cross-validation score\", marker='s')\n",
    "    plt.title(f\"Validation Curve - Logistic Regression ({param_name})\")\n",
    "    plt.xlabel(param_name)\n",
    "    plt.ylabel(\"F1 Score\")\n",
    "    plt.legend(loc='best')\n",
    "    plt.grid(True)\n",
    "    plt.tight_layout()\n",
    "    plt.show()\n",
    "\n",
    "# Call function\n",
    "param_range = [0.001, 0.01, 0.1, 1, 10, 100]\n",
    "plot_validation_curve(LogisticRegression(class_weight='balanced', max_iter=1000), X, y, param_name='C', param_range=param_range)\n"
   ]
  },
  {
   "cell_type": "code",
   "execution_count": 26,
   "id": "01769232",
   "metadata": {},
   "outputs": [
    {
     "data": {
      "text/plain": [
       "Index(['Type', 'UDI', 'Air temperature [K]', 'Process temperature [K]',\n",
       "       'Rotational speed [rpm]', 'Torque [Nm]', 'Tool wear [min]', 'TWF',\n",
       "       'HDF', 'PWF', 'OSF', 'RNF', 'Machine failure'],\n",
       "      dtype='object')"
      ]
     },
     "execution_count": 26,
     "metadata": {},
     "output_type": "execute_result"
    }
   ],
   "source": [
    "df.columns"
   ]
  },
  {
   "cell_type": "markdown",
   "id": "df3540f0",
   "metadata": {},
   "source": [
    "conclusion\n",
    "1 - logistic Regression model is not  over fit"
   ]
  },
  {
   "cell_type": "code",
   "execution_count": 29,
   "id": "1a2c8999",
   "metadata": {},
   "outputs": [
    {
     "name": "stdout",
     "output_type": "stream",
     "text": [
      "Full pipeline saved successfully!\n"
     ]
    },
    {
     "name": "stderr",
     "output_type": "stream",
     "text": [
      "c:\\Users\\Priyanshu pandey\\AppData\\Local\\Programs\\Python\\Python310\\lib\\site-packages\\sklearn\\utils\\validation.py:1408: DataConversionWarning: A column-vector y was passed when a 1d array was expected. Please change the shape of y to (n_samples, ), for example using ravel().\n",
      "  y = column_or_1d(y, warn=True)\n"
     ]
    }
   ],
   "source": [
    "# Dump the best model\n",
    "import pandas as pd\n",
    "import joblib\n",
    "from sklearn.model_selection import train_test_split\n",
    "from sklearn.compose import ColumnTransformer\n",
    "from sklearn.preprocessing import StandardScaler, OrdinalEncoder\n",
    "from sklearn.linear_model import LogisticRegression\n",
    "from imblearn.pipeline import Pipeline as ImbPipeline\n",
    "from imblearn.over_sampling import SMOTE\n",
    "\n",
    "df = pd.read_csv(\"../Data/clean_data.csv\") \n",
    "\n",
    "target_col =  ['Machine failure'] \n",
    "categorical_cols = ['Type']  \n",
    "numerical_cols = ['UDI', 'Air temperature [K]', 'Process temperature [K]',\n",
    "       'Rotational speed [rpm]', 'Torque [Nm]', 'Tool wear [min]', 'TWF',\n",
    "       'HDF', 'PWF', 'OSF', 'RNF',]  \n",
    "\n",
    "X = df[categorical_cols + numerical_cols]\n",
    "y = df[target_col]\n",
    "\n",
    "X_train, X_test, y_train, y_test = train_test_split(X, y, stratify=y, random_state=42)\n",
    "\n",
    "preprocessor = ColumnTransformer(transformers=[\n",
    "    (\"num\", StandardScaler(), numerical_cols),\n",
    "    (\"cat\", OrdinalEncoder(handle_unknown=\"use_encoded_value\", unknown_value=-1), categorical_cols)\n",
    "])\n",
    "\n",
    "pipeline = ImbPipeline(steps=[\n",
    "    (\"preprocessing\", preprocessor),\n",
    "    (\"smote\", SMOTE(random_state=42)),\n",
    "    (\"model\", LogisticRegression(max_iter=1000))\n",
    "])\n",
    "\n",
    "pipeline.fit(X_train, y_train)\n",
    "\n",
    "joblib.dump(pipeline, \"model.pkl\")\n",
    "print(\"Full pipeline saved successfully!\")\n",
    "\n"
   ]
  },
  {
   "cell_type": "code",
   "execution_count": null,
   "id": "fc267320",
   "metadata": {},
   "outputs": [],
   "source": []
  }
 ],
 "metadata": {
  "kernelspec": {
   "display_name": "Python 3",
   "language": "python",
   "name": "python3"
  },
  "language_info": {
   "codemirror_mode": {
    "name": "ipython",
    "version": 3
   },
   "file_extension": ".py",
   "mimetype": "text/x-python",
   "name": "python",
   "nbconvert_exporter": "python",
   "pygments_lexer": "ipython3",
   "version": "3.10.9"
  }
 },
 "nbformat": 4,
 "nbformat_minor": 5
}
